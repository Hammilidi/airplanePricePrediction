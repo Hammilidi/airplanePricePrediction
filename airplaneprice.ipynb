{
 "cells": [
  {
   "cell_type": "code",
   "execution_count": 52,
   "id": "eb04c01f-3e19-4b68-9ef2-b5ff9bba82e6",
   "metadata": {},
   "outputs": [],
   "source": [
    "import pandas as pd\n",
    "from sklearn.model_selection import train_test_split, GridSearchCV\n",
    "from sklearn.compose import ColumnTransformer\n",
    "from sklearn.preprocessing import StandardScaler, OneHotEncoder\n",
    "from xgboost import XGBRegressor\n",
    "from sklearn.pipeline import Pipeline\n",
    "import numpy as np\n",
    "from sklearn.metrics import mean_squared_error, r2_score\n",
    "from sklearn.metrics import mean_absolute_error, mean_absolute_percentage_error"
   ]
  },
  {
   "cell_type": "code",
   "execution_count": 3,
   "id": "f76daede-a630-4e30-aa0c-c361a2bc8dda",
   "metadata": {},
   "outputs": [
    {
     "data": {
      "text/html": [
       "<div>\n",
       "<style scoped>\n",
       "    .dataframe tbody tr th:only-of-type {\n",
       "        vertical-align: middle;\n",
       "    }\n",
       "\n",
       "    .dataframe tbody tr th {\n",
       "        vertical-align: top;\n",
       "    }\n",
       "\n",
       "    .dataframe thead th {\n",
       "        text-align: right;\n",
       "    }\n",
       "</style>\n",
       "<table border=\"1\" class=\"dataframe\">\n",
       "  <thead>\n",
       "    <tr style=\"text-align: right;\">\n",
       "      <th></th>\n",
       "      <th>Model</th>\n",
       "      <th>Üretim Yılı</th>\n",
       "      <th>Motor Sayısı</th>\n",
       "      <th>Motor Türü</th>\n",
       "      <th>Kapasite</th>\n",
       "      <th>Menzil (km)</th>\n",
       "      <th>Yakıt Tüketimi (L/saat)</th>\n",
       "      <th>Saatlik Bakım Maliyeti ($)</th>\n",
       "      <th>Yaş</th>\n",
       "      <th>Satış Bölgesi</th>\n",
       "      <th>Fiyat ($)</th>\n",
       "    </tr>\n",
       "  </thead>\n",
       "  <tbody>\n",
       "    <tr>\n",
       "      <th>0</th>\n",
       "      <td>Bombardier CRJ200</td>\n",
       "      <td>1987</td>\n",
       "      <td>2</td>\n",
       "      <td>Turbofan</td>\n",
       "      <td>50</td>\n",
       "      <td>3000</td>\n",
       "      <td>14.36</td>\n",
       "      <td>2185.43</td>\n",
       "      <td>36</td>\n",
       "      <td>Asya</td>\n",
       "      <td>1.285708e+07</td>\n",
       "    </tr>\n",
       "    <tr>\n",
       "      <th>1</th>\n",
       "      <td>Bombardier CRJ200</td>\n",
       "      <td>1997</td>\n",
       "      <td>2</td>\n",
       "      <td>Turbofan</td>\n",
       "      <td>50</td>\n",
       "      <td>3000</td>\n",
       "      <td>4.03</td>\n",
       "      <td>1202.08</td>\n",
       "      <td>26</td>\n",
       "      <td>Avrupa</td>\n",
       "      <td>1.391406e+07</td>\n",
       "    </tr>\n",
       "    <tr>\n",
       "      <th>2</th>\n",
       "      <td>Airbus A320</td>\n",
       "      <td>1988</td>\n",
       "      <td>2</td>\n",
       "      <td>Turbofan</td>\n",
       "      <td>180</td>\n",
       "      <td>6300</td>\n",
       "      <td>13.26</td>\n",
       "      <td>761.38</td>\n",
       "      <td>35</td>\n",
       "      <td>Avustralya</td>\n",
       "      <td>9.073570e+07</td>\n",
       "    </tr>\n",
       "    <tr>\n",
       "      <th>3</th>\n",
       "      <td>Boeing 737</td>\n",
       "      <td>2023</td>\n",
       "      <td>2</td>\n",
       "      <td>Turbofan</td>\n",
       "      <td>162</td>\n",
       "      <td>5700</td>\n",
       "      <td>14.61</td>\n",
       "      <td>592.63</td>\n",
       "      <td>0</td>\n",
       "      <td>Avustralya</td>\n",
       "      <td>1.366597e+08</td>\n",
       "    </tr>\n",
       "    <tr>\n",
       "      <th>4</th>\n",
       "      <td>Cessna 172</td>\n",
       "      <td>1985</td>\n",
       "      <td>1</td>\n",
       "      <td>Piston</td>\n",
       "      <td>4</td>\n",
       "      <td>1285</td>\n",
       "      <td>18.49</td>\n",
       "      <td>4245.99</td>\n",
       "      <td>38</td>\n",
       "      <td>Güney Amerika</td>\n",
       "      <td>2.037981e+05</td>\n",
       "    </tr>\n",
       "  </tbody>\n",
       "</table>\n",
       "</div>"
      ],
      "text/plain": [
       "               Model  Üretim Yılı  Motor Sayısı Motor Türü  Kapasite  \\\n",
       "0  Bombardier CRJ200         1987             2   Turbofan        50   \n",
       "1  Bombardier CRJ200         1997             2   Turbofan        50   \n",
       "2        Airbus A320         1988             2   Turbofan       180   \n",
       "3         Boeing 737         2023             2   Turbofan       162   \n",
       "4         Cessna 172         1985             1     Piston         4   \n",
       "\n",
       "   Menzil (km)  Yakıt Tüketimi (L/saat)  Saatlik Bakım Maliyeti ($)  Yaş  \\\n",
       "0         3000                    14.36                     2185.43   36   \n",
       "1         3000                     4.03                     1202.08   26   \n",
       "2         6300                    13.26                      761.38   35   \n",
       "3         5700                    14.61                      592.63    0   \n",
       "4         1285                    18.49                     4245.99   38   \n",
       "\n",
       "   Satış Bölgesi     Fiyat ($)  \n",
       "0           Asya  1.285708e+07  \n",
       "1         Avrupa  1.391406e+07  \n",
       "2     Avustralya  9.073570e+07  \n",
       "3     Avustralya  1.366597e+08  \n",
       "4  Güney Amerika  2.037981e+05  "
      ]
     },
     "execution_count": 3,
     "metadata": {},
     "output_type": "execute_result"
    }
   ],
   "source": [
    "data = pd.read_csv(\"data/airplane/airplane_price_dataset.csv\")\n",
    "data.head()"
   ]
  },
  {
   "cell_type": "markdown",
   "id": "6197a0b1-785e-46e8-8229-3690c8122429",
   "metadata": {},
   "source": [
    "Voici une description de chaque colonne du dataset ainsi qu'une proposition de renommage en français pour une meilleure lisibilité :  \n",
    "\n",
    "### **Description des colonnes :**  \n",
    "1. **Model** → *Modèle* : Le nom du modèle d'avion.  \n",
    "2. **Üretim Yılı** → *Année de production* : L'année de fabrication de l'avion.  \n",
    "3. **Motor Sayısı** → *Nombre de moteurs* : Le nombre total de moteurs équipant l'avion.  \n",
    "4. **Motor Türü** → *Type de moteur* : Le type de moteur utilisé (ex. : Turbofan, Turboprop, etc.).  \n",
    "5. **Kapasite** → *Capacité* : Le nombre maximal de passagers que l'avion peut transporter.  \n",
    "6. **Menzil (km)** → *Autonomie (km)* : La distance maximale que l'avion peut parcourir sans ravitaillement en carburant (en kilomètres).  \n",
    "7. **Yakıt Tüketimi (L/saat)** → *Consommation de carburant (L/h)* : La quantité de carburant consommée par heure de vol (en litres par heure).  \n",
    "8. **Saatlik Bakım Maliyeti ($)** → *Coût de maintenance horaire ($)* : Le coût moyen d'entretien de l'avion par heure de vol (en dollars).  \n",
    "9. **Yaş** → *Âge* : L'âge de l'avion en années.  \n",
    "10. **Satış Bölgesi** → *Région de vente* : La région où l'avion est vendu (ex. : Asie, Europe, etc.).  \n",
    "11. **Fiyat ($)** → *Prix ($)* : Le prix de vente de l'avion en dollars.  "
   ]
  },
  {
   "cell_type": "code",
   "execution_count": 54,
   "id": "dd7a33bb-8198-4716-95cd-527b1e65f7fb",
   "metadata": {},
   "outputs": [
    {
     "name": "stdout",
     "output_type": "stream",
     "text": [
      "Colonnes du DataFrame : ['Modèle', 'Année de production', 'Nombre de moteurs', 'Type de moteur', 'Capacité', 'Autonomie (km)', 'Consommation de carburant (L/h)', 'Coût de maintenance horaire ($)', 'Âge', 'Région de vente', 'Prix ($)']\n"
     ]
    }
   ],
   "source": [
    "# renommage des colonnes\n",
    "data.rename(columns={\n",
    "    \"Model\": \"Modèle\",\n",
    "    \"Üretim Yılı\": \"Année de production\",\n",
    "    \"Motor Sayısı\": \"Nombre de moteurs\",\n",
    "    \"Motor Türü\": \"Type de moteur\",\n",
    "    \"Kapasite\": \"Capacité\",\n",
    "    \"Menzil (km)\": \"Autonomie (km)\",\n",
    "    \"Yakıt Tüketimi (L/saat)\": \"Consommation de carburant (L/h)\",\n",
    "    \"Saatlik Bakım Maliyeti ($)\": \"Coût de maintenance horaire ($)\",\n",
    "    \"Yaş\": \"Âge\",\n",
    "    \"Satış Bölgesi\": \"Région de vente\",\n",
    "    \"Fiyat ($)\": \"Prix ($)\"\n",
    "}, inplace=True)\n",
    "\n",
    "# Vérification des noms de colonnes\n",
    "print(\"Colonnes du DataFrame :\", data.columns.tolist())"
   ]
  },
  {
   "cell_type": "markdown",
   "id": "a5d2b282-ba8b-46bc-83ef-fb3af9c7c6d6",
   "metadata": {},
   "source": [
    "# 1. Compréhension et Préparation des Données\n",
    "Avant tout, il est important d'explorer le dataset pour identifier d'éventuelles valeurs manquantes, outliers ou incohérences. Ici, nous allons supposer que le dataset est propre.\n",
    "Nous devons aussi distinguer les variables numériques des variables catégorielles.\n",
    "\n",
    "**Variables numériques** :\n",
    "\n",
    "- Année de production\n",
    "- Nombre de moteurs\n",
    "- Capacité\n",
    "- Autonomie (km)\n",
    "- Consommation de carburant (L/h)\n",
    "- Coût de maintenance horaire ($)\n",
    "- Âge\n",
    "\n",
    "\n",
    "**Variables catégorielles** :\n",
    "\n",
    "- Modèle\n",
    "- Type de moteur\n",
    "- Région de vente\n",
    "\n",
    "**La variable cible sera Prix ($).**"
   ]
  },
  {
   "cell_type": "markdown",
   "id": "f8cab9f4-3b49-4260-a557-00e78a044a40",
   "metadata": {},
   "source": [
    "# 2. Séparation des Données\n",
    "On divise le dataset en deux ensembles :\n",
    "\n",
    "Ensemble d'entraînement : Pour entraîner et optimiser le modèle.\n",
    "Ensemble de test : Pour évaluer la performance finale du modèle.\n"
   ]
  },
  {
   "cell_type": "code",
   "execution_count": 56,
   "id": "d4501b4b-0e4f-4330-876f-03e4e5112e3f",
   "metadata": {},
   "outputs": [],
   "source": [
    "# Séparation des données\n",
    "X = data.drop(\"Prix ($)\", axis=1)\n",
    "y = data[\"Prix ($)\"]\n",
    "X_train, X_test, y_train, y_test = train_test_split(X, y, test_size=0.2, random_state=42)"
   ]
  },
  {
   "cell_type": "markdown",
   "id": "116119af-a949-485d-918d-7734c2f5954c",
   "metadata": {},
   "source": [
    "# 3. Prétraitement et Transformation\n",
    "Afin de préparer les données pour l'apprentissage, on va :\n",
    "\n",
    "Scaler les variables numériques avec un StandardScaler pour leur donner une échelle comparable.\n",
    "Encoder les variables catégorielles avec un OneHotEncoder pour les transformer en variables numériques.\n",
    "Pour automatiser ces transformations, on utilise un ColumnTransformer qui sera intégré dans un pipeline."
   ]
  },
  {
   "cell_type": "code",
   "execution_count": 58,
   "id": "9b79fc37-6dff-49ba-b22d-489d7296762e",
   "metadata": {},
   "outputs": [],
   "source": [
    "# Préparation du préprocesseur\n",
    "numerical_features = [\n",
    "    \"Année de production\",  \n",
    "    \"Nombre de moteurs\",\n",
    "    \"Capacité\",\n",
    "    \"Autonomie (km)\",\n",
    "    \"Consommation de carburant (L/h)\",\n",
    "    \"Coût de maintenance horaire ($)\",\n",
    "    \"Âge\"\n",
    "]\n",
    "categorical_features = [\"Modèle\", \"Type de moteur\", \"Région de vente\"]\n",
    "\n",
    "preprocessor = ColumnTransformer(\n",
    "    transformers=[\n",
    "        (\"num\", StandardScaler(), numerical_features),\n",
    "        (\"cat\", OneHotEncoder(handle_unknown='ignore'), categorical_features)\n",
    "    ]\n",
    ")"
   ]
  },
  {
   "cell_type": "markdown",
   "id": "163969e9-ef6a-465a-970d-ae4e84e9b84a",
   "metadata": {},
   "source": [
    "# 4. Choix du Modèle et Création d'un Pipeline\n",
    "Pour un problème de régression comme celui-ci, XGBoost est un excellent choix grâce à sa robustesse et sa capacité à gérer les interactions complexes entre variables.\n",
    "On intègre le préprocesseur et le modèle dans un pipeline, ce qui permet d'automatiser l'ensemble du flux de travail."
   ]
  },
  {
   "cell_type": "code",
   "execution_count": 60,
   "id": "999e4275-2792-4807-9cc5-1e9afefe9ca3",
   "metadata": {},
   "outputs": [],
   "source": [
    "# Création du pipeline\n",
    "xgb_model = XGBRegressor(objective=\"reg:squarederror\", random_state=42)\n",
    "pipeline = Pipeline(steps=[\n",
    "    (\"preprocessor\", preprocessor),\n",
    "    (\"regressor\", xgb_model)\n",
    "])\n"
   ]
  },
  {
   "cell_type": "markdown",
   "id": "2bc471fe-d3ce-40c0-8def-91a3f7a8fda9",
   "metadata": {},
   "source": [
    "# 5. Optimisation des Hyperparamètres\n",
    "Pour améliorer les performances du modèle, il est essentiel d'optimiser certains hyperparamètres (par exemple, le nombre d'arbres, la profondeur maximale, le taux d'apprentissage, etc.).\n",
    "On peut utiliser GridSearchCV pour explorer différentes combinaisons via une validation croisée."
   ]
  },
  {
   "cell_type": "code",
   "execution_count": 63,
   "id": "b6045849-138e-4520-a315-50f066e2b131",
   "metadata": {},
   "outputs": [
    {
     "name": "stdout",
     "output_type": "stream",
     "text": [
      "Meilleurs paramètres : {'regressor__learning_rate': 0.1, 'regressor__max_depth': 3, 'regressor__n_estimators': 100}\n"
     ]
    }
   ],
   "source": [
    "# Recherche d'hyperparamètres\n",
    "param_grid = {\n",
    "    \"regressor__n_estimators\": [100, 200],\n",
    "    \"regressor__max_depth\": [3, 5, 7],\n",
    "    \"regressor__learning_rate\": [0.01, 0.1, 0.2]\n",
    "}\n",
    "\n",
    "grid_search = GridSearchCV(pipeline, param_grid, cv=5, scoring=\"neg_mean_squared_error\", error_score='raise')\n",
    "grid_search.fit(X_train, y_train)\n",
    "\n",
    "print(\"Meilleurs paramètres :\", grid_search.best_params_)"
   ]
  },
  {
   "cell_type": "markdown",
   "id": "518b1e8d-3f76-4925-a355-2e24203025d4",
   "metadata": {},
   "source": [
    "# 6. Évaluation du Modèle\n",
    "Une fois le modèle optimisé, on l'évalue sur l'ensemble de test à l'aide de métriques telles que le RMSE (Root Mean Squared Error) et le R²."
   ]
  },
  {
   "cell_type": "code",
   "execution_count": 84,
   "id": "266993e1-c31e-45df-aa1c-16ea178de071",
   "metadata": {},
   "outputs": [
    {
     "name": "stdout",
     "output_type": "stream",
     "text": [
      "RMSE : 31091684.07172641\n",
      "R² : 0.9819152421253083\n",
      "MAE : 16664613.832613593\n",
      "MAPE : 71.79805584148 %\n"
     ]
    }
   ],
   "source": [
    "# Évaluation sur le jeu de test\n",
    "y_pred = grid_search.predict(X_test)\n",
    "rmse = np.sqrt(mean_squared_error(y_test, y_pred))\n",
    "r2 = r2_score(y_test, y_pred)\n",
    "mae = mean_absolute_error(y_test, y_pred)\n",
    "mape = mean_absolute_percentage_error(y_test, y_pred)\n",
    "\n",
    "print(\"RMSE :\", rmse)\n",
    "print(\"R² :\", r2)\n",
    "print(\"MAE :\", mae)\n",
    "print(\"MAPE :\", mape * 100, \"%\")"
   ]
  },
  {
   "cell_type": "code",
   "execution_count": 75,
   "id": "efe95edc-b068-464f-a9cb-6eaaf651cce9",
   "metadata": {},
   "outputs": [
    {
     "data": {
      "text/plain": [
       "978213228.63"
      ]
     },
     "execution_count": 75,
     "metadata": {},
     "output_type": "execute_result"
    }
   ],
   "source": [
    "data[\"Prix ($)\"].max()"
   ]
  },
  {
   "cell_type": "code",
   "execution_count": 77,
   "id": "7c913d60-c504-4026-9507-166d4388cd43",
   "metadata": {},
   "outputs": [
    {
     "data": {
      "text/plain": [
       "145814.79"
      ]
     },
     "execution_count": 77,
     "metadata": {},
     "output_type": "execute_result"
    }
   ],
   "source": [
    "data[\"Prix ($)\"].max()"
   ]
  },
  {
   "cell_type": "code",
   "execution_count": 79,
   "id": "f51d565a-2864-4ec7-aa68-155fefbacc40",
   "metadata": {},
   "outputs": [
    {
     "data": {
      "text/plain": [
       "198833649.57071987"
      ]
     },
     "execution_count": 79,
     "metadata": {},
     "output_type": "execute_result"
    }
   ],
   "source": [
    "data[\"Prix ($)\"].mean()"
   ]
  },
  {
   "cell_type": "markdown",
   "id": "88ba6651-8944-4fbf-b896-a56d80b11494",
   "metadata": {},
   "source": [
    "# Interprétation des Résultats"
   ]
  },
  {
   "cell_type": "markdown",
   "id": "7a1d114b-2153-42b7-8cf9-304517762e2e",
   "metadata": {},
   "source": [
    "Ces résultats suggèrent que, malgré un **RMSE** de 31 millions, le modèle est très performant par rapport à l'ampleur des valeurs (avec une erreur relative d'environ 15 % et un **R²** très élevé).\n",
    "\n",
    "Les métriques **MAE** et **MAPE** donnent deux points de vue différents sur l'erreur de votre modèle :\n",
    "\n",
    "- **MAE ≈ 16,66 millions de dollars**  \n",
    "  Cela signifie que, en moyenne, la prédiction de votre modèle s'écarte du prix réel d'environ 16,66 millions de dollars.  \n",
    "  Étant donné que le prix moyen est d'environ 198 millions de dollars, l'erreur moyenne absolue représente environ 8 % du prix moyen.\n",
    "\n",
    "- **MAPE ≈ 71,8 %**  \n",
    "  Le MAPE exprime l'erreur en pourcentage par rapport au prix réel. Une valeur aussi élevée indique qu'en moyenne, l'erreur relative par prédiction est importante.  \n",
    "  Ce résultat peut s'expliquer par la forte hétérogénéité des prix dans votre dataset :  \n",
    "  - Le prix varie de 145 814,79 dollars à près de 978 millions de dollars.  \n",
    "  - Pour des avions dont le prix est très bas, une erreur même modeste en valeur absolue peut représenter un pourcentage très élevé.  \n",
    "  - Le MAPE est donc particulièrement sensible aux cas où le prix réel est faible.\n",
    "\n",
    "### Que peut-on en conclure ?\n",
    "\n",
    "- **Performance sur l'ensemble du dataset :**  \n",
    "  Le R² élevé (≈ 0,98) et le MAE modéré par rapport à la moyenne indiquent que le modèle explique bien la variance des prix et que, sur le plan absolu, l'erreur moyenne n'est pas excessive.\n",
    "\n",
    "- **Attention aux cas particuliers :**  \n",
    "  Le MAPE élevé suggère qu'il existe certaines observations (probablement les avions à bas prix) pour lesquelles l'erreur relative est très importante.  \n",
    "  Il peut être utile de :\n",
    "  - Visualiser les prédictions par rapport aux valeurs réelles (par exemple, avec un scatter plot) pour identifier les cas problématiques.\n",
    "  - Analyser la distribution des erreurs selon les segments de prix.\n",
    "  - Envisager des métriques supplémentaires (comme le MAE, qui est moins sensible aux faibles valeurs) pour avoir une vision complète des performances.\n",
    "\n",
    "\n",
    "En résumé, vos résultats montrent que le modèle a de bonnes performances globales (R² élevé et MAE acceptable) mais que des écarts relatifs importants apparaissent sur certains cas, notamment pour les avions à prix très bas. Une analyse plus détaillée par segment de prix pourra aider à mieux comprendre et potentiellement améliorer ces aspects."
   ]
  },
  {
   "cell_type": "markdown",
   "id": "8160d6bb-8d23-4b5b-a227-5bc1ff9f2e7e",
   "metadata": {},
   "source": [
    "# Sauvegarder le modele "
   ]
  },
  {
   "cell_type": "code",
   "execution_count": 91,
   "id": "a9f5da6b-2259-441c-b4f3-abf8a2bc63f9",
   "metadata": {},
   "outputs": [
    {
     "name": "stdout",
     "output_type": "stream",
     "text": [
      "Requirement already satisfied: joblib in c:\\users\\hp\\anaconda3\\lib\\site-packages (1.4.2)\n"
     ]
    }
   ],
   "source": [
    "!pip install joblib"
   ]
  },
  {
   "cell_type": "code",
   "execution_count": 93,
   "id": "dde956cf-b0d8-4228-9c0c-0b1e15603126",
   "metadata": {},
   "outputs": [
    {
     "name": "stdout",
     "output_type": "stream",
     "text": [
      "Modèle sauvegardé sous 'xgb_airplane_price_model.pkl'\n"
     ]
    }
   ],
   "source": [
    "import joblib\n",
    "\n",
    "# On sauvegarde le meilleur modèle (pipeline complet) dans un fichier .pkl\n",
    "joblib.dump(grid_search.best_estimator_, \"xgb_airplane_price_model.pkl\")\n",
    "\n",
    "print(\"Modèle sauvegardé sous 'xgb_airplane_price_model.pkl'\")\n"
   ]
  }
 ],
 "metadata": {
  "kernelspec": {
   "display_name": "Python [conda env:base] *",
   "language": "python",
   "name": "conda-base-py"
  },
  "language_info": {
   "codemirror_mode": {
    "name": "ipython",
    "version": 3
   },
   "file_extension": ".py",
   "mimetype": "text/x-python",
   "name": "python",
   "nbconvert_exporter": "python",
   "pygments_lexer": "ipython3",
   "version": "3.12.7"
  }
 },
 "nbformat": 4,
 "nbformat_minor": 5
}
